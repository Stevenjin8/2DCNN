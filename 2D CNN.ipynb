{
 "cells": [
  {
   "cell_type": "code",
   "execution_count": 1,
   "metadata": {},
   "outputs": [],
   "source": [
    "import tensorflow as tf\n",
    "from tensorflow import keras"
   ]
  },
  {
   "cell_type": "code",
   "execution_count": 2,
   "metadata": {},
   "outputs": [],
   "source": [
    "import numpy as np\n",
    "import matplotlib.pyplot as plt\n",
    "import matplotlib\n",
    "import pickle\n",
    "%matplotlib inline"
   ]
  },
  {
   "cell_type": "code",
   "execution_count": 3,
   "metadata": {},
   "outputs": [],
   "source": [
    "def unpickle(file):\n",
    "    with open(file, 'rb') as fo:\n",
    "        dict = pickle.load(fo, encoding='bytes')\n",
    "    return dict"
   ]
  },
  {
   "cell_type": "markdown",
   "metadata": {},
   "source": [
    "<h1>loading data"
   ]
  },
  {
   "cell_type": "code",
   "execution_count": 4,
   "metadata": {},
   "outputs": [],
   "source": [
    "data1 = unpickle('cifar-10-batches-py/data_batch_1')\n",
    "data2 = unpickle('cifar-10-batches-py/data_batch_2')\n",
    "data3 = unpickle('cifar-10-batches-py/data_batch_3')\n",
    "data4 = unpickle('cifar-10-batches-py/data_batch_4')\n",
    "data5 = unpickle('cifar-10-batches-py/data_batch_5')"
   ]
  },
  {
   "cell_type": "code",
   "execution_count": 5,
   "metadata": {},
   "outputs": [],
   "source": [
    "test = unpickle('cifar-10-batches-py/test_batch')"
   ]
  },
  {
   "cell_type": "code",
   "execution_count": 6,
   "metadata": {},
   "outputs": [],
   "source": [
    "X_train = np.concatenate((data1[b'data'], data2[b'data'], data3[b'data'], data4[b'data'], data5[b'data']))\n",
    "y_train = np.concatenate((data1[b'labels'], data2[b'labels'], data3[b'labels'], data4[b'labels'], data5[b'labels']))\n",
    "X_test = test[b'data']\n",
    "y_test = test[b'labels']"
   ]
  },
  {
   "cell_type": "markdown",
   "metadata": {},
   "source": [
    "<h1>formatting data"
   ]
  },
  {
   "cell_type": "code",
   "execution_count": 7,
   "metadata": {},
   "outputs": [],
   "source": [
    "def reshape(image):\n",
    "    r = image[:1024].reshape(32,32,1)\n",
    "    g = image[1024:2048].reshape(32,32,1)\n",
    "    b = image[2048:].reshape(32,32,1)\n",
    "    out = np.concatenate([r,g,b], axis=2)\n",
    "    return out"
   ]
  },
  {
   "cell_type": "code",
   "execution_count": 8,
   "metadata": {},
   "outputs": [],
   "source": [
    "X_train = np.array([reshape(image) for image in X_train])/255."
   ]
  },
  {
   "cell_type": "code",
   "execution_count": 9,
   "metadata": {},
   "outputs": [],
   "source": [
    "X_test = np.array([reshape(image) for image in X_test])/255."
   ]
  },
  {
   "cell_type": "markdown",
   "metadata": {},
   "source": [
    "<h3> one hot"
   ]
  },
  {
   "cell_type": "code",
   "execution_count": 10,
   "metadata": {},
   "outputs": [],
   "source": [
    "def one_hot(data,n):\n",
    "    output = np.zeros((np.shape(data)[0], n))\n",
    "    for i,line in enumerate(output):\n",
    "        line[data[i]] = 1\n",
    "    return output"
   ]
  },
  {
   "cell_type": "code",
   "execution_count": 11,
   "metadata": {},
   "outputs": [],
   "source": [
    "y_train = one_hot(y_train, 10)*1."
   ]
  },
  {
   "cell_type": "code",
   "execution_count": 12,
   "metadata": {},
   "outputs": [],
   "source": [
    "classes = ['airplane','automobile','bird','cat','deer','dog','frog','horse','ship','truck']"
   ]
  },
  {
   "cell_type": "markdown",
   "metadata": {},
   "source": [
    "<h1>building the model"
   ]
  },
  {
   "cell_type": "code",
   "execution_count": 13,
   "metadata": {},
   "outputs": [],
   "source": [
    "model = keras.Sequential()"
   ]
  },
  {
   "cell_type": "code",
   "execution_count": 14,
   "metadata": {},
   "outputs": [],
   "source": [
    "model.add(keras.layers.Conv2D(filters=30,kernel_size=[3,3],strides=1,padding='same',data_format='channels_last', activation = 'relu'))\n",
    "\n",
    "model.add(keras.layers.Conv2D(filters=30,kernel_size=[3,3],strides=1,padding='same',data_format='channels_last', activation = 'relu'))\n",
    "\n",
    "model.add(keras.layers.Conv2D(filters=20,kernel_size=[3,3],strides=1,padding='same',data_format='channels_last', activation = 'relu'))\n",
    "model.add(keras.layers.MaxPool2D(pool_size=[2,2], padding='same', data_format = 'channels_last'))\n",
    "model.add(keras.layers.Flatten())\n",
    "model.add(keras.layers.Dropout(0.45))\n",
    "model.add(keras.layers.Dense(128, activation='relu'))\n",
    "model.add(keras.layers.Dense(128, activation='relu'))\n",
    "model.add(keras.layers.Dense(10, activation='softmax'))"
   ]
  },
  {
   "cell_type": "code",
   "execution_count": 15,
   "metadata": {},
   "outputs": [],
   "source": [
    "model.compile(optimizer = 'adam', loss=\"categorical_crossentropy\", metrics=['accuracy'])"
   ]
  },
  {
   "cell_type": "code",
   "execution_count": null,
   "metadata": {},
   "outputs": [
    {
     "name": "stdout",
     "output_type": "stream",
     "text": [
      "Train on 50000 samples\n",
      "Epoch 1/20\n",
      "50000/50000 [==============================] - 214s 4ms/sample - loss: 1.4692 - accuracy: 0.4664\n",
      "Epoch 2/20\n",
      "50000/50000 [==============================] - 206s 4ms/sample - loss: 1.1043 - accuracy: 0.6054\n",
      "Epoch 3/20\n",
      "50000/50000 [==============================] - 211s 4ms/sample - loss: 0.9629 - accuracy: 0.6589\n",
      "Epoch 4/20\n",
      "50000/50000 [==============================] - 216s 4ms/sample - loss: 0.8707 - accuracy: 0.6904\n",
      "Epoch 5/20\n",
      "50000/50000 [==============================] - 224s 4ms/sample - loss: 0.7975 - accuracy: 0.7174\n",
      "Epoch 6/20\n",
      "50000/50000 [==============================] - 211s 4ms/sample - loss: 0.7301 - accuracy: 0.7383\n",
      "Epoch 7/20\n",
      "50000/50000 [==============================] - 229s 5ms/sample - loss: 0.6804 - accuracy: 0.7596\n",
      "Epoch 8/20\n",
      "50000/50000 [==============================] - 239s 5ms/sample - loss: 0.6332 - accuracy: 0.7760\n",
      "Epoch 9/20\n",
      "50000/50000 [==============================] - 223s 4ms/sample - loss: 0.5917 - accuracy: 0.7906\n",
      "Epoch 10/20\n",
      "50000/50000 [==============================] - 230s 5ms/sample - loss: 0.5642 - accuracy: 0.7991\n",
      "Epoch 11/20\n",
      " 2370/50000 [>.............................] - ETA: 3:46 - loss: 0.5080 - accuracy: 0.8190"
     ]
    }
   ],
   "source": [
    "history = model.fit(X_train, y_train, epochs=20, batch_size=30, verbose = 1)"
   ]
  },
  {
   "cell_type": "code",
   "execution_count": null,
   "metadata": {},
   "outputs": [],
   "source": []
  }
 ],
 "metadata": {
  "kernelspec": {
   "display_name": "Python 3",
   "language": "python",
   "name": "python3"
  },
  "language_info": {
   "codemirror_mode": {
    "name": "ipython",
    "version": 3
   },
   "file_extension": ".py",
   "mimetype": "text/x-python",
   "name": "python",
   "nbconvert_exporter": "python",
   "pygments_lexer": "ipython3",
   "version": "3.7.4"
  }
 },
 "nbformat": 4,
 "nbformat_minor": 2
}
